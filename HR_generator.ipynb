{
 "cells": [
  {
   "cell_type": "markdown",
   "id": "8d12c281",
   "metadata": {},
   "source": [
    "### org 폴더에 있는 이미지들을 crop 해서 hr 생성"
   ]
  },
  {
   "cell_type": "code",
   "execution_count": null,
   "id": "c19ee84b",
   "metadata": {},
   "outputs": [],
   "source": [
    "org_path = 'E:\\\\dl_data\\\\SR\\\\my_sr\\\\org\\\\'\n",
    "hr_path = 'E:\\\\dl_data\\\\SR\\\\my_sr\\\\hr\\\\'\n",
    "\n",
    "path_splitter = '\\\\'"
   ]
  },
  {
   "cell_type": "code",
   "execution_count": 27,
   "id": "555f5189",
   "metadata": {},
   "outputs": [
    {
     "name": "stdout",
     "output_type": "stream",
     "text": [
      "remove old images\n"
     ]
    },
    {
     "name": "stderr",
     "output_type": "stream",
     "text": [
      "100%|██████████████████████████████████████████████████████████████████████████████████| 80/80 [01:22<00:00,  1.03s/it]"
     ]
    },
    {
     "name": "stdout",
     "output_type": "stream",
     "text": [
      "done\n"
     ]
    },
    {
     "name": "stderr",
     "output_type": "stream",
     "text": [
      "\n"
     ]
    }
   ],
   "source": [
    "from glob import glob\n",
    "import os\n",
    "import shutil\n",
    "import random\n",
    "import cv2\n",
    "from tqdm import tqdm\n",
    "\n",
    "w = 2048\n",
    "h = 2048\n",
    "\n",
    "shutil.rmtree(hr_path, ignore_errors=True)\n",
    "os.makedirs(hr_path, exist_ok=True)\n",
    "print('remove old images done')\n",
    "\n",
    "filelist = glob(os.path.join(org_path, \"*.png\"))\n",
    "for f in tqdm(filelist):\n",
    "    filename = f.split(path_splitter)[-1]\n",
    "    filename_without_ext = filename.replace('.png', '')\n",
    "    new_filename = hr_path + filename_without_ext\n",
    "    \n",
    "    ### crop\n",
    "    img = cv2.imread(f)\n",
    "    # print(img.shape)\n",
    "    img_height, img_width, img_channel = img.shape    \n",
    "    \n",
    "    mode_list = ['LT', 'RT', 'LB', 'RB', 'CE']\n",
    "    #mode_list = ['LT', 'RT', 'LB', 'RB']\n",
    "    for index, mode in enumerate(mode_list):\n",
    "        x = 0\n",
    "        y = 0\n",
    "        if mode == 'LT': # left-top\n",
    "            pass\n",
    "        elif mode == 'RT': # right-top\n",
    "            x = img_width - w\n",
    "        elif mode == 'LB': # left-bottom\n",
    "            y = img_height - h\n",
    "        elif mode == 'RB': # right-bottom\n",
    "            x = img_width - w\n",
    "            y = img_height -h\n",
    "        elif mode == 'CE': # center\n",
    "            x = int((img_width - w) / 2)\n",
    "            y = int((img_height - h) / 2)\n",
    "        else:\n",
    "            continue\n",
    "            \n",
    "        cropped_img = img[y: y + h, x: x + w]\n",
    "        new_file = new_filename + '_' + str(index) + '_' + mode + '.png'\n",
    "        cv2.imwrite(new_file, cropped_img)\n",
    "    # print(f + ' done')\n",
    "\n",
    "print('all done')"
   ]
  },
  {
   "cell_type": "code",
   "execution_count": null,
   "id": "2c9843c9",
   "metadata": {},
   "outputs": [],
   "source": []
  },
  {
   "cell_type": "code",
   "execution_count": null,
   "id": "bf631208",
   "metadata": {},
   "outputs": [],
   "source": []
  }
 ],
 "metadata": {
  "kernelspec": {
   "display_name": "Python 3 (ipykernel)",
   "language": "python",
   "name": "python3"
  },
  "language_info": {
   "codemirror_mode": {
    "name": "ipython",
    "version": 3
   },
   "file_extension": ".py",
   "mimetype": "text/x-python",
   "name": "python",
   "nbconvert_exporter": "python",
   "pygments_lexer": "ipython3",
   "version": "3.8.10"
  }
 },
 "nbformat": 4,
 "nbformat_minor": 5
}
