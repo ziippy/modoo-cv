{
 "cells": [
  {
   "cell_type": "markdown",
   "id": "57f589eb",
   "metadata": {},
   "source": [
    "### HR 여러 개의 이미지들을 ensemble 하는 코드"
   ]
  },
  {
   "cell_type": "code",
   "execution_count": 4,
   "id": "ec03dae4",
   "metadata": {},
   "outputs": [
    {
     "name": "stderr",
     "output_type": "stream",
     "text": [
      "100%|██████████████████████████████████████████████████████████████████████████████████| 18/18 [00:01<00:00, 12.76it/s]\n",
      "100%|██████████████████████████████████████████████████████████████████████████████████| 18/18 [00:01<00:00, 12.92it/s]\n",
      "100%|██████████████████████████████████████████████████████████████████████████████████| 18/18 [00:01<00:00, 12.92it/s]\n",
      "100%|██████████████████████████████████████████████████████████████████████████████████| 18/18 [00:03<00:00,  4.57it/s]"
     ]
    },
    {
     "name": "stdout",
     "output_type": "stream",
     "text": [
      "all done\n"
     ]
    },
    {
     "name": "stderr",
     "output_type": "stream",
     "text": [
      "\n"
     ]
    }
   ],
   "source": [
    "import os\n",
    "import cv2\n",
    "from tqdm import tqdm\n",
    "import numpy as np\n",
    "\n",
    "root_dir = 'C:\\\\Users\\\\ziipp\\\\Downloads\\\\'\n",
    "\n",
    "results_path = ['C:\\\\Users\\\\ziipp\\\\Downloads\\\\all_158000__23.8385',\n",
    "                'C:\\\\Users\\\\ziipp\\\\Downloads\\\\all_e_32400__23.9018',\n",
    "                'C:\\\\Users\\\\ziipp\\\\Downloads\\\\all_f_41000__23.8406'\n",
    "               ]\n",
    "\n",
    "results_list = []\n",
    "image_name_list = []\n",
    "for idx, r_path in enumerate(results_path):  # 모델별 이미지 저장 경로\n",
    "    images = os.listdir(r_path)\n",
    "    images.sort()\n",
    "\n",
    "    results = []\n",
    "    for image_name in tqdm(images):\n",
    "        image_path = os.path.join(r_path, image_name)\n",
    "        image = cv2.imread(image_path, cv2.IMREAD_COLOR)\n",
    "        results.append(image)\n",
    "        if idx == 0:\n",
    "            image_name_list.append(image_name)\n",
    "\n",
    "    results_list.append(results)\n",
    "\n",
    "# ensemble\n",
    "results_array = np.array(results_list)\n",
    "results_array = np.transpose(results_array, (1, 0, 2, 3, 4))\n",
    "ensemble_result = np.mean(results_array, axis=1)\n",
    "\n",
    "pred_name_list = []\n",
    "for i in tqdm(range(ensemble_result.shape[0])):\n",
    "    mean_image = ensemble_result[i, :]\n",
    "    cv2.imwrite(os.path.join(root_dir, 'ensemble', image_name_list[i]), mean_image)\n",
    "    \n",
    "print(\"all done\")"
   ]
  },
  {
   "cell_type": "code",
   "execution_count": null,
   "id": "ff9e6c01",
   "metadata": {},
   "outputs": [],
   "source": []
  }
 ],
 "metadata": {
  "kernelspec": {
   "display_name": "Python 3 (ipykernel)",
   "language": "python",
   "name": "python3"
  },
  "language_info": {
   "codemirror_mode": {
    "name": "ipython",
    "version": 3
   },
   "file_extension": ".py",
   "mimetype": "text/x-python",
   "name": "python",
   "nbconvert_exporter": "python",
   "pygments_lexer": "ipython3",
   "version": "3.8.10"
  }
 },
 "nbformat": 4,
 "nbformat_minor": 5
}
